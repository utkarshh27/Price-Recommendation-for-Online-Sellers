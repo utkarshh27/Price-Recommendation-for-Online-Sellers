{
 "cells": [
  {
   "cell_type": "code",
   "execution_count": 2,
   "id": "d2845fee",
   "metadata": {},
   "outputs": [],
   "source": [
    "import numpy as np\n",
    "import pandas as pd\n",
    "import matplotlib.pyplot as plt\n",
    "import seaborn as sns\n",
    "from scipy.sparse import csr_matrix, hstack\n",
    "from sklearn.preprocessing import LabelBinarizer\n",
    "from sklearn.feature_extraction.text import CountVectorizer, TfidfVectorizer\n",
    "from sklearn.model_selection import train_test_split, cross_val_score\n",
    "from sklearn.metrics import mean_squared_error\n",
    "import lightgbm as lgb\n",
    "import gc\n",
    "import time\n",
    "\n",
    "\n"
   ]
  },
  {
   "cell_type": "code",
   "execution_count": 3,
   "id": "d09b6a1e",
   "metadata": {},
   "outputs": [],
   "source": [
    "df = pd.read_csv(r\"C:\\Users\\UTKARSH SINGH\\Documents\\Projects\\Price Recommendation for Online Sellers using LightGBM\\mercari-price-suggestion-challenge\\train.tsv\", sep = '\\t')"
   ]
  },
  {
   "cell_type": "code",
   "execution_count": 4,
   "id": "7fa056b2",
   "metadata": {},
   "outputs": [
    {
     "data": {
      "text/html": [
       "<div>\n",
       "<style scoped>\n",
       "    .dataframe tbody tr th:only-of-type {\n",
       "        vertical-align: middle;\n",
       "    }\n",
       "\n",
       "    .dataframe tbody tr th {\n",
       "        vertical-align: top;\n",
       "    }\n",
       "\n",
       "    .dataframe thead th {\n",
       "        text-align: right;\n",
       "    }\n",
       "</style>\n",
       "<table border=\"1\" class=\"dataframe\">\n",
       "  <thead>\n",
       "    <tr style=\"text-align: right;\">\n",
       "      <th></th>\n",
       "      <th>train_id</th>\n",
       "      <th>name</th>\n",
       "      <th>item_condition_id</th>\n",
       "      <th>category_name</th>\n",
       "      <th>brand_name</th>\n",
       "      <th>price</th>\n",
       "      <th>shipping</th>\n",
       "      <th>item_description</th>\n",
       "    </tr>\n",
       "  </thead>\n",
       "  <tbody>\n",
       "    <tr>\n",
       "      <th>0</th>\n",
       "      <td>0</td>\n",
       "      <td>MLB Cincinnati Reds T Shirt Size XL</td>\n",
       "      <td>3</td>\n",
       "      <td>Men/Tops/T-shirts</td>\n",
       "      <td>NaN</td>\n",
       "      <td>10.0</td>\n",
       "      <td>1</td>\n",
       "      <td>No description yet</td>\n",
       "    </tr>\n",
       "    <tr>\n",
       "      <th>1</th>\n",
       "      <td>1</td>\n",
       "      <td>Razer BlackWidow Chroma Keyboard</td>\n",
       "      <td>3</td>\n",
       "      <td>Electronics/Computers &amp; Tablets/Components &amp; P...</td>\n",
       "      <td>Razer</td>\n",
       "      <td>52.0</td>\n",
       "      <td>0</td>\n",
       "      <td>This keyboard is in great condition and works ...</td>\n",
       "    </tr>\n",
       "    <tr>\n",
       "      <th>2</th>\n",
       "      <td>2</td>\n",
       "      <td>AVA-VIV Blouse</td>\n",
       "      <td>1</td>\n",
       "      <td>Women/Tops &amp; Blouses/Blouse</td>\n",
       "      <td>Target</td>\n",
       "      <td>10.0</td>\n",
       "      <td>1</td>\n",
       "      <td>Adorable top with a hint of lace and a key hol...</td>\n",
       "    </tr>\n",
       "    <tr>\n",
       "      <th>3</th>\n",
       "      <td>3</td>\n",
       "      <td>Leather Horse Statues</td>\n",
       "      <td>1</td>\n",
       "      <td>Home/Home Décor/Home Décor Accents</td>\n",
       "      <td>NaN</td>\n",
       "      <td>35.0</td>\n",
       "      <td>1</td>\n",
       "      <td>New with tags. Leather horses. Retail for [rm]...</td>\n",
       "    </tr>\n",
       "    <tr>\n",
       "      <th>4</th>\n",
       "      <td>4</td>\n",
       "      <td>24K GOLD plated rose</td>\n",
       "      <td>1</td>\n",
       "      <td>Women/Jewelry/Necklaces</td>\n",
       "      <td>NaN</td>\n",
       "      <td>44.0</td>\n",
       "      <td>0</td>\n",
       "      <td>Complete with certificate of authenticity</td>\n",
       "    </tr>\n",
       "    <tr>\n",
       "      <th>5</th>\n",
       "      <td>5</td>\n",
       "      <td>Bundled items requested for Ruie</td>\n",
       "      <td>3</td>\n",
       "      <td>Women/Other/Other</td>\n",
       "      <td>NaN</td>\n",
       "      <td>59.0</td>\n",
       "      <td>0</td>\n",
       "      <td>Banana republic bottoms, Candies skirt with ma...</td>\n",
       "    </tr>\n",
       "    <tr>\n",
       "      <th>6</th>\n",
       "      <td>6</td>\n",
       "      <td>Acacia pacific tides santorini top</td>\n",
       "      <td>3</td>\n",
       "      <td>Women/Swimwear/Two-Piece</td>\n",
       "      <td>Acacia Swimwear</td>\n",
       "      <td>64.0</td>\n",
       "      <td>0</td>\n",
       "      <td>Size small but straps slightly shortened to fi...</td>\n",
       "    </tr>\n",
       "    <tr>\n",
       "      <th>7</th>\n",
       "      <td>7</td>\n",
       "      <td>Girls cheer and tumbling bundle of 7</td>\n",
       "      <td>3</td>\n",
       "      <td>Sports &amp; Outdoors/Apparel/Girls</td>\n",
       "      <td>Soffe</td>\n",
       "      <td>6.0</td>\n",
       "      <td>1</td>\n",
       "      <td>You get three pairs of Sophie cheer shorts siz...</td>\n",
       "    </tr>\n",
       "    <tr>\n",
       "      <th>8</th>\n",
       "      <td>8</td>\n",
       "      <td>Girls Nike Pro shorts</td>\n",
       "      <td>3</td>\n",
       "      <td>Sports &amp; Outdoors/Apparel/Girls</td>\n",
       "      <td>Nike</td>\n",
       "      <td>19.0</td>\n",
       "      <td>0</td>\n",
       "      <td>Girls Size small Plus green. Three shorts total.</td>\n",
       "    </tr>\n",
       "    <tr>\n",
       "      <th>9</th>\n",
       "      <td>9</td>\n",
       "      <td>Porcelain clown doll checker pants VTG</td>\n",
       "      <td>3</td>\n",
       "      <td>Vintage &amp; Collectibles/Collectibles/Doll</td>\n",
       "      <td>NaN</td>\n",
       "      <td>8.0</td>\n",
       "      <td>0</td>\n",
       "      <td>I realized his pants are on backwards after th...</td>\n",
       "    </tr>\n",
       "  </tbody>\n",
       "</table>\n",
       "</div>"
      ],
      "text/plain": [
       "   train_id                                    name  item_condition_id  \\\n",
       "0         0     MLB Cincinnati Reds T Shirt Size XL                  3   \n",
       "1         1        Razer BlackWidow Chroma Keyboard                  3   \n",
       "2         2                          AVA-VIV Blouse                  1   \n",
       "3         3                   Leather Horse Statues                  1   \n",
       "4         4                    24K GOLD plated rose                  1   \n",
       "5         5        Bundled items requested for Ruie                  3   \n",
       "6         6      Acacia pacific tides santorini top                  3   \n",
       "7         7    Girls cheer and tumbling bundle of 7                  3   \n",
       "8         8                   Girls Nike Pro shorts                  3   \n",
       "9         9  Porcelain clown doll checker pants VTG                  3   \n",
       "\n",
       "                                       category_name       brand_name  price  \\\n",
       "0                                  Men/Tops/T-shirts              NaN   10.0   \n",
       "1  Electronics/Computers & Tablets/Components & P...            Razer   52.0   \n",
       "2                        Women/Tops & Blouses/Blouse           Target   10.0   \n",
       "3                 Home/Home Décor/Home Décor Accents              NaN   35.0   \n",
       "4                            Women/Jewelry/Necklaces              NaN   44.0   \n",
       "5                                  Women/Other/Other              NaN   59.0   \n",
       "6                           Women/Swimwear/Two-Piece  Acacia Swimwear   64.0   \n",
       "7                    Sports & Outdoors/Apparel/Girls            Soffe    6.0   \n",
       "8                    Sports & Outdoors/Apparel/Girls             Nike   19.0   \n",
       "9           Vintage & Collectibles/Collectibles/Doll              NaN    8.0   \n",
       "\n",
       "   shipping                                   item_description  \n",
       "0         1                                 No description yet  \n",
       "1         0  This keyboard is in great condition and works ...  \n",
       "2         1  Adorable top with a hint of lace and a key hol...  \n",
       "3         1  New with tags. Leather horses. Retail for [rm]...  \n",
       "4         0          Complete with certificate of authenticity  \n",
       "5         0  Banana republic bottoms, Candies skirt with ma...  \n",
       "6         0  Size small but straps slightly shortened to fi...  \n",
       "7         1  You get three pairs of Sophie cheer shorts siz...  \n",
       "8         0   Girls Size small Plus green. Three shorts total.  \n",
       "9         0  I realized his pants are on backwards after th...  "
      ]
     },
     "execution_count": 4,
     "metadata": {},
     "output_type": "execute_result"
    }
   ],
   "source": [
    "df.head(10)"
   ]
  },
  {
   "cell_type": "code",
   "execution_count": 5,
   "id": "72af1218",
   "metadata": {},
   "outputs": [],
   "source": [
    "#df.isnull()"
   ]
  },
  {
   "cell_type": "code",
   "execution_count": 6,
   "id": "c0e76380",
   "metadata": {},
   "outputs": [
    {
     "data": {
      "text/plain": [
       "((1186028, 8), (296507, 8))"
      ]
     },
     "execution_count": 6,
     "metadata": {},
     "output_type": "execute_result"
    }
   ],
   "source": [
    "train, test = train_test_split(df, test_size=0.2, random_state=42)    #30 krna h\n",
    "train.shape, test.shape"
   ]
  },
  {
   "cell_type": "code",
   "execution_count": 7,
   "id": "03b57ae9",
   "metadata": {},
   "outputs": [
    {
     "data": {
      "text/plain": [
       "Text(0.5, 1.0, 'Price Distribution')"
      ]
     },
     "execution_count": 7,
     "metadata": {},
     "output_type": "execute_result"
    },
    {
     "data": {
      "image/png": "[encoded data removed]",
      "text/plain": [
       "<Figure size 1200x600 with 2 Axes>"
      ]
     },
     "metadata": {},
     "output_type": "display_data"
    }
   ],
   "source": [
    "plt.subplot(1,2,1)\n",
    "(train['price']).plot.hist(bins=50, figsize=(12, 6), edgecolor = 'white', range= [0,200])\n",
    "plt.xlabel('Price', fontsize=12)\n",
    "plt.title('Price Distribution', fontsize=12)\n",
    "plt.subplot(1,2,2)\n",
    "np.log(train['price']+1).plot.hist(bins=50, figsize=(12, 6), edgecolor = 'white')\n",
    "plt.xlabel('log(Price)+1', fontsize=12)\n",
    "plt.title('Price Distribution', fontsize=12)"
   ]
  },
  {
   "cell_type": "code",
   "execution_count": 8,
   "id": "60b6897f",
   "metadata": {},
   "outputs": [
    {
     "data": {
      "text/plain": [
       "0    55.28318\n",
       "1    44.71682\n",
       "Name: shipping, dtype: float64"
      ]
     },
     "execution_count": 8,
     "metadata": {},
     "output_type": "execute_result"
    }
   ],
   "source": [
    "train['shipping'].value_counts()/len(train) *100"
   ]
  },
  {
   "cell_type": "code",
   "execution_count": 9,
   "id": "99cc1879",
   "metadata": {},
   "outputs": [
    {
     "name": "stdout",
     "output_type": "stream",
     "text": [
      "The avg. Price is 22.53 when seller pays the shipping\n",
      "The avg. Price is 30.07 when buyer pays the shipping\n"
     ]
    }
   ],
   "source": [
    "fee_buyer = train.loc[df['shipping'] ==0, 'price']\n",
    "fee_seller = train.loc[df['shipping']==1, 'price']\n",
    "print(\"The avg. Price is {}\".format(round(fee_seller.mean(), 2)), \"when seller pays the shipping\");\n",
    "print(\"The avg. Price is {}\".format(round(fee_buyer.mean(), 2)), \"when buyer pays the shipping\")"
   ]
  },
  {
   "cell_type": "code",
   "execution_count": null,
   "id": "86bbc3b2",
   "metadata": {},
   "outputs": [],
   "source": []
  },
  {
   "cell_type": "code",
   "execution_count": 10,
   "id": "bffc47ac",
   "metadata": {},
   "outputs": [
    {
     "data": {
      "text/plain": [
       "array([3, 1, 2, 4, 5], dtype=int64)"
      ]
     },
     "execution_count": 10,
     "metadata": {},
     "output_type": "execute_result"
    }
   ],
   "source": [
    "train['item_condition_id'].unique()"
   ]
  },
  {
   "cell_type": "code",
   "execution_count": 11,
   "id": "de8e2c53",
   "metadata": {},
   "outputs": [
    {
     "data": {
      "text/plain": [
       "<Axes: xlabel='item_condition_id', ylabel='price'>"
      ]
     },
     "execution_count": 11,
     "metadata": {},
     "output_type": "execute_result"
    },
    {
     "data": {
      "image/png": "[encoded data removed]",
      "text/plain": [
       "<Figure size 640x480 with 1 Axes>"
      ]
     },
     "metadata": {},
     "output_type": "display_data"
    }
   ],
   "source": [
    "sns.boxplot(x = 'item_condition_id', y =np.log(train['price']+1), data = train, palette = sns.color_palette('RdBu',5))"
   ]
  },
  {
   "cell_type": "code",
   "execution_count": 12,
   "id": "d587f7c3",
   "metadata": {},
   "outputs": [
    {
     "data": {
      "image/png": "[encoded data removed]",
      "text/plain": [
       "<Figure size 640x480 with 1 Axes>"
      ]
     },
     "metadata": {},
     "output_type": "display_data"
    }
   ],
   "source": [
    "b20 = train['brand_name'].value_counts()[0:20].reset_index().rename(columns={'index': 'brand_name', 'brand_name':'count'})\n",
    "ax = sns.barplot(x=\"brand_name\", y=\"count\", data=b20)\n",
    "ax.set_xticklabels(ax.get_xticklabels(),rotation=90)\n",
    "ax.set_title('Top 20 Brand Distribution', fontsize=15)\n",
    "plt.show()"
   ]
  },
  {
   "cell_type": "code",
   "execution_count": 39,
   "id": "6b58ca5c",
   "metadata": {},
   "outputs": [],
   "source": [
    "NUM_BRANDS = 4000                  #remember\n",
    "NUM_CATEGORIES = 1000\n",
    "NAME_MIN_DF = 10\n",
    "MAX_FEATURES_ITEM_DESCRIPTION = 500000"
   ]
  },
  {
   "cell_type": "code",
   "execution_count": 43,
   "id": "b12b8b42",
   "metadata": {},
   "outputs": [
    {
     "data": {
      "text/plain": [
       "5083"
      ]
     },
     "execution_count": 43,
     "metadata": {},
     "output_type": "execute_result"
    }
   ],
   "source": [
    "train['category_name'].isnull().sum()"
   ]
  },
  {
   "cell_type": "code",
   "execution_count": 44,
   "id": "29a1c841",
   "metadata": {},
   "outputs": [
    {
     "data": {
      "text/plain": [
       "506058"
      ]
     },
     "execution_count": 44,
     "metadata": {},
     "output_type": "execute_result"
    }
   ],
   "source": [
    "train['brand_name'].isnull().sum()"
   ]
  },
  {
   "cell_type": "code",
   "execution_count": 45,
   "id": "55b75f29",
   "metadata": {},
   "outputs": [
    {
     "data": {
      "text/plain": [
       "3"
      ]
     },
     "execution_count": 45,
     "metadata": {},
     "output_type": "execute_result"
    }
   ],
   "source": [
    "train['item_description'].isnull().sum()"
   ]
  },
  {
   "cell_type": "code",
   "execution_count": 46,
   "id": "722b36e8",
   "metadata": {},
   "outputs": [
    {
     "data": {
      "text/plain": [
       "0"
      ]
     },
     "execution_count": 46,
     "metadata": {},
     "output_type": "execute_result"
    }
   ],
   "source": [
    "train['price'].isnull().sum()"
   ]
  },
  {
   "cell_type": "code",
   "execution_count": 47,
   "id": "21ad508a",
   "metadata": {},
   "outputs": [
    {
     "data": {
      "text/plain": [
       "0"
      ]
     },
     "execution_count": 47,
     "metadata": {},
     "output_type": "execute_result"
    }
   ],
   "source": [
    "train['item_condition_id'].isnull().sum()"
   ]
  },
  {
   "cell_type": "code",
   "execution_count": 48,
   "id": "a1838e11",
   "metadata": {},
   "outputs": [],
   "source": [
    "def heandel_missing_inplace(dataset):\n",
    "    dataset['category_name'].fillna(value='missing', inplace=True)\n",
    "    dataset['brand_name'].fillna(value='missing', inplace=True)\n",
    "    dataset['item_description'].replace('No description yet,''missing', inplace=True)\n",
    "    dataset['item_description'].fillna(value='missing', inplace=True)\n",
    "    \n",
    "    \n",
    "def cutting(dataset):\n",
    "    pop_brand = dataset['brand_name'].value_counts().loc[lambda x: x.index != 'missing'].index[:NUM_BRANDS]\n",
    "    dataset.loc[~dataset['brand_name'].isin(pop_brand), 'brand_name'] = 'missing'\n",
    "    pop_category = dataset['category_name'].value_counts().loc[lambda x: x.index != 'missing'].index[:NUM_CATEGORIES]\n",
    "\n",
    "    \n",
    "def to_categorical(dataset):\n",
    "    dataset['category_name'] = dataset['category_name'].astype('category')\n",
    "    dataset['brand_name'] = dataset['brand_name'].astype('category')\n",
    "    dataset['item_condition_id'] = dataset['item_condition_id'].astype('category')"
   ]
  },
  {
   "cell_type": "code",
   "execution_count": 49,
   "id": "ec9e9235",
   "metadata": {},
   "outputs": [],
   "source": [
    "df = pd.read_csv(r\"C:\\Users\\UTKARSH SINGH\\Documents\\Projects\\Price Recommendation for Online Sellers using LightGBM\\mercari-price-suggestion-challenge\\train.tsv\", sep = '\\t')\n",
    "msk = np.random.rand(len(df)) < 0.8\n",
    "train = df[msk]\n",
    "test = df[~msk]\n",
    "test_new = test.drop('price', axis=1)\n",
    "y_test = np.log1p(test[\"price\"])\n",
    "train = train[train.price !=0].reset_index(drop=True)"
   ]
  },
  {
   "cell_type": "code",
   "execution_count": 52,
   "id": "983514ac",
   "metadata": {},
   "outputs": [],
   "source": [
    "nrow_train = train.shape[0]\n",
    "y = np.log1p(train[\"price\"])\n",
    "merge: pd.DataFrame = pd.concat([train, test_new])"
   ]
  },
  {
   "cell_type": "code",
   "execution_count": 53,
   "id": "14e5b0e6",
   "metadata": {},
   "outputs": [],
   "source": [
    "heandel_missing_inplace(merge)\n",
    "cutting(merge)\n",
    "to_categorical(merge)"
   ]
  },
  {
   "cell_type": "code",
   "execution_count": 63,
   "id": "4238a32c",
   "metadata": {},
   "outputs": [],
   "source": [
    "cv = CountVectorizer(min_df=NAME_MIN_DF)\n",
    "x_name = cv.fit_transform(merge['name'])\n",
    "cv = CountVectorizer()\n",
    "x_category = cv.fit_transform(merge['category_name'])"
   ]
  },
  {
   "cell_type": "code",
   "execution_count": 66,
   "id": "2264564d",
   "metadata": {},
   "outputs": [],
   "source": [
    "tv = TfidfVectorizer(max_features=MAX_FEATURES_ITEM_DESCRIPTION, ngram_range=(1, 3), stop_words='english')\n",
    "X_description = tv.fit_transform(merge['item_description'])"
   ]
  },
  {
   "cell_type": "code",
   "execution_count": 70,
   "id": "c7f4e48b",
   "metadata": {},
   "outputs": [],
   "source": [
    "lb = LabelBinarizer(sparse_output=True)\n",
    "X_brand = lb.fit_transform(merge['brand_name'])"
   ]
  },
  {
   "cell_type": "code",
   "execution_count": 73,
   "id": "c1d49de4",
   "metadata": {},
   "outputs": [],
   "source": [
    "X_dummies = csr_matrix(pd.get_dummies(merge[['item_condition_id', 'shipping']], sparse=True).values)"
   ]
  },
  {
   "cell_type": "code",
   "execution_count": 75,
   "id": "1ecf3243",
   "metadata": {},
   "outputs": [],
   "source": [
    "sparse_merge = hstack((X_dummies, X_description, X_brand, x_category, x_name)).tocsr()"
   ]
  },
  {
   "cell_type": "code",
   "execution_count": 76,
   "id": "c279a65c",
   "metadata": {},
   "outputs": [],
   "source": [
    "mask = np.array(np.clip(sparse_merge.getnnz(axis=0) -1, 0, 1), dtype=bool)\n",
    "sparse_merge = sparse_merge[:, mask]"
   ]
  },
  {
   "cell_type": "code",
   "execution_count": 77,
   "id": "cf1a7d70",
   "metadata": {},
   "outputs": [],
   "source": [
    "X = sparse_merge[:nrow_train]\n",
    "X_test = sparse_merge[nrow_train:]"
   ]
  },
  {
   "cell_type": "code",
   "execution_count": 78,
   "id": "0f9a4240",
   "metadata": {},
   "outputs": [],
   "source": [
    "train_X =lgb.Dataset(X, label=y)"
   ]
  },
  {
   "cell_type": "code",
   "execution_count": 80,
   "id": "6f8d49dc",
   "metadata": {},
   "outputs": [],
   "source": [
    "params = {\n",
    "    'learning_rate': 0.75,\n",
    "    'application': 'regression',\n",
    "    'max_depth': 3,\n",
    "    'num_leaves': 100,\n",
    "    'verbosity': -1,\n",
    "    'metric': 'RMSE',\n",
    "}"
   ]
  },
  {
   "cell_type": "code",
   "execution_count": 81,
   "id": "b7298613",
   "metadata": {},
   "outputs": [
    {
     "name": "stderr",
     "output_type": "stream",
     "text": [
      "C:\\Users\\UTKARSH SINGH\\AppData\\Local\\Programs\\Python\\Python310\\lib\\site-packages\\lightgbm\\engine.py:239: UserWarning: 'verbose_eval' argument is deprecated and will be removed in a future release of LightGBM. Pass 'log_evaluation()' callback via 'callbacks' argument instead.\n",
      "  _log_warning(\"'verbose_eval' argument is deprecated and will be removed in a future release of LightGBM. \"\n",
      "\n",
      "KeyboardInterrupt\n",
      "\n"
     ]
    }
   ],
   "source": [
    "gbm = lgb.train(params, train_set=train_X, num_boost_round=3200,verbose_eval=100)"
   ]
  },
  {
   "cell_type": "code",
   "execution_count": null,
   "id": "4def89d8",
   "metadata": {},
   "outputs": [],
   "source": [
    "y_pred = gbm.predict(X_test, num_iteration=gbm.best_iteration)"
   ]
  },
  {
   "cell_type": "code",
   "execution_count": 83,
   "id": "08c05252",
   "metadata": {},
   "outputs": [],
   "source": [
    "mean_squared_error(y_test, y_pred)"
   ]
  },
  {
   "cell_type": "code",
   "execution_count": 5,
   "id": "d5bd793b",
   "metadata": {},
   "outputs": [],
   "source": [
    "# Score was 0.49 something\n"
   ]
  },
  {
   "cell_type": "code",
   "execution_count": 20,
   "id": "1d9d5948",
   "metadata": {
    "scrolled": false
   },
   "outputs": [],
   "source": [
    "#!jupyter nbconvert --to pdf price_recommendation.ipynb"
   ]
  },
  {
   "cell_type": "code",
   "execution_count": null,
   "id": "f507499b",
   "metadata": {},
   "outputs": [],
   "source": []
  },
  {
   "cell_type": "code",
   "execution_count": null,
   "id": "4ede11d9",
   "metadata": {},
   "outputs": [],
   "source": []
  },
  {
   "cell_type": "code",
   "execution_count": null,
   "id": "e26a84c4",
   "metadata": {},
   "outputs": [],
   "source": []
  },
  {
   "cell_type": "code",
   "execution_count": null,
   "id": "5c069b88",
   "metadata": {},
   "outputs": [],
   "source": []
  }
 ],
 "metadata": {
  "kernelspec": {
   "display_name": "Python 3 (ipykernel)",
   "language": "python",
   "name": "python3"
  },
  "language_info": {
   "codemirror_mode": {
    "name": "ipython",
    "version": 3
   },
   "file_extension": ".py",
   "mimetype": "text/x-python",
   "name": "python",
   "nbconvert_exporter": "python",
   "pygments_lexer": "ipython3",
   "version": "3.10.7"
  }
 },
 "nbformat": 4,
 "nbformat_minor": 5
}
